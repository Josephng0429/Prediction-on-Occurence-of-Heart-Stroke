{
 "cells": [
  {
   "cell_type": "markdown",
   "id": "22510ea7",
   "metadata": {},
   "source": [
    "# Data Visualization via Tableau \n",
    "\n",
    "\n",
    "\n",
    "Dataset from Kaggle: **\"Heart Disease Dataset\"** by *Mazaharul Hasnine Mirza   \n",
    "Source: https://www.kaggle.com/datasets/mirzahasnine/heart-disease-dataset"
   ]
  },
  {
   "cell_type": "markdown",
   "id": "7eecb61f",
   "metadata": {},
   "source": [
    "We have already tried out data visualization using seaborn library. Now, we provide an alternative of data visualization using Tableau. The data used here are the cleaned data (heart_dis_cln.csv)."
   ]
  },
  {
   "cell_type": "markdown",
   "id": "dff945bb",
   "metadata": {},
   "source": [
    "What is Tableau?\n",
    "Tableau is a visual analytics platform transforming the way we use data to solve problems—empowering people and organizations to make the most of their data. It is used in the field of business intelligence.\n",
    "More details at: https://www.tableau.com/why-tableau/what-is-tableau"
   ]
  },
  {
   "cell_type": "markdown",
   "id": "763fce6d",
   "metadata": {},
   "source": [
    "## A Guideline to Navigate the Tableau Workbook Below\n",
    "\n",
    "There are two types of Viz sheets below: Worksheet, Dashboard.\n",
    "\n"
   ]
  },
  {
   "cell_type": "markdown",
   "id": "6705d449",
   "metadata": {},
   "source": [
    "### Worksheet\n",
    "For each of the worksheets, we have provided a relevant filter(s) for (optional) selective visualizations. Do try them out.\n",
    "\n",
    "* Age Group vs Heart Stroke: distribution of age group with heart stroke as labels   \n",
    "\n",
    "* Blood Pressure Medication vs Heart Stroke: distribution of Blood Pressure Medication with heart stroke as labels   \n",
    "  \n",
    "* Current Smoker vs Heart Stroke: distribution of Current Smoker with heart stroke as labels     \n",
    "\n",
    "* Diabetes vs Heart Stroke: distribution of Diabetes with heart stroke as labels   \n",
    "\n",
    "* Education vs Heart Stroke: distribution of Education with heart stroke as labels   \n",
    "\n",
    "* Gender vs Heart Stroke: distribution of Gender with heart stroke as labels   \n",
    "\n",
    "* Prevalent Hypertension vs Heart Stroke: distribution of Prevalent Hypertension with heart stroke as labels   \n",
    "\n",
    "* Prevalent Stroke vs Heart Stroke: distribution of Prevalent Stroke with heart stroke as labels   \n",
    "\n",
    "* Heart Stroke: pie chart of heart stroke distribution   \n",
    "\n",
    "* Age: boxplot of age distribution    \n",
    "\n",
    "* Age (2): histogram of age distribution   \n",
    "\n",
    "* BMI: boxplot of BMI distribution   \n",
    "\n",
    "* BMI (2): histogram of BMI distribution   \n",
    "\n",
    "* Diastolic Blood Pressure: boxplot of diastolic blood pressure distribution   \n",
    "\n",
    "* Diastolic Blood Pressure (2): histogram of diastolic blood pressure distribution   \n",
    "\n",
    "* Glucose Level: boxplot of glucose level distribution     \n",
    "\n",
    "* Glucose Level (2): histogram of glucose level distribution   \n",
    "\n",
    "* Heart Rate: boxplot of heart rate distribution   \n",
    "\n",
    "* Heart Rate (2): histogram of heart rate distribution   \n",
    "\n",
    "* Systolic Blood Pressure: boxplot of systolic blood pressure distribution   \n",
    "\n",
    "* Systolic Blood Pressure (2): histogram of systolic blood pressure distribution   \n",
    "\n",
    "* Total Cholesterol: boxplot of total cholesterol distribution   \n",
    "\n",
    "* Total Cholesterol (2): histogram of total cholesterol distribution   \n"
   ]
  },
  {
   "cell_type": "markdown",
   "id": "b6143805",
   "metadata": {},
   "source": [
    "### Dashboard\n",
    "A summary of all worksheets in the respective categories.\n",
    "\n",
    "* Categorical Variables vs Severity: summary of all categorical variables with Heart Stroke as labels   \n",
    "* Overview of Numeric Predictors: summary of all numeric predictors   "
   ]
  },
  {
   "cell_type": "markdown",
   "id": "cf55b222",
   "metadata": {},
   "source": [
    "Hover your cursor around the data to view the details."
   ]
  },
  {
   "cell_type": "code",
   "execution_count": 2,
   "id": "d8c35668",
   "metadata": {},
   "outputs": [
    {
     "data": {
      "text/html": [
       "<a href=\"https://public.tableau.com/views/SC1015MiniProject/CategoricalVariablesvsHeartStroke?:language=en-US&:display_count=n&:origin=viz_share_link\">Showing Text</a>\n"
      ],
      "text/plain": [
       "<IPython.core.display.HTML object>"
      ]
     },
     "metadata": {},
     "output_type": "display_data"
    }
   ],
   "source": [
    "%%html\n",
    "<a href=\"https://public.tableau.com/views/SC1015MiniProject/CategoricalVariablesvsHeartStroke?:language=en-US&:display_count=n&:origin=viz_share_link\">Showing Text</a>"
   ]
  },
  {
   "cell_type": "code",
   "execution_count": null,
   "id": "d2c26759",
   "metadata": {},
   "outputs": [],
   "source": []
  }
 ],
 "metadata": {
  "kernelspec": {
   "display_name": "Python 3 (ipykernel)",
   "language": "python",
   "name": "python3"
  },
  "language_info": {
   "codemirror_mode": {
    "name": "ipython",
    "version": 3
   },
   "file_extension": ".py",
   "mimetype": "text/x-python",
   "name": "python",
   "nbconvert_exporter": "python",
   "pygments_lexer": "ipython3",
   "version": "3.9.13"
  }
 },
 "nbformat": 4,
 "nbformat_minor": 5
}
