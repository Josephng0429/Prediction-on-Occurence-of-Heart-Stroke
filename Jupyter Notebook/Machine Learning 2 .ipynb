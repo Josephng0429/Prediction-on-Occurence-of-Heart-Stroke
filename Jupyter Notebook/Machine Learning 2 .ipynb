{
 "cells": [
  {
   "cell_type": "markdown",
   "id": "72c9b927",
   "metadata": {},
   "source": [
    "# Machine Learning 2\n",
    "\n",
    "Our dataset is from Kaggle: \"Heart Disease Dataset\" by *Mazaharul Hasnine Mirza\n",
    "\n",
    "Source: https://www.kaggle.com/datasets/mirzahasnine/heart-disease-dataset\n",
    "\n",
    "We have previously tried out using upsampled data to build our machine learning model for `HEART_STROKE` prediction. Now, we do not upsample the data, instead we use two models from imblearn: BalancedBaggingClassifier & BalancedRandomForestClassifier, to perform our prediction.\n",
    "\n",
    "We will use the ohe-ed data from the previous ipynb file, which categorical variables are encoded as one-hot numeric arrays.\n",
    "\n",
    "Imbalanced-learn (imported as imblearn) is an open source, MIT-licensed library relying on scikit-learn (imported as sklearn) and provides tools when dealing with classification with imbalanced classes. Link to learn more about imblearn: https://imbalanced-learn.org/stable/"
   ]
  },
  {
   "cell_type": "markdown",
   "id": "c3b3616d",
   "metadata": {},
   "source": [
    "The two models mentioned above are from `imblearn` `ensemble` library.\n",
    "\n",
    "`Ensemble` learning gives credence to the idea of the “wisdom of crowds”, which suggests that the decision-making of a larger group of people is typically better than that of an individual expert. Similarly, `ensemble` learning refers to a group (or `ensemble`) of base learners, or models, which work collectively to achieve a better final prediction. A single model, also known as a base or weak learner, may not perform well individually due to high variance or high bias. However, when weak learners are aggregated, they can form a strong learner, as their combination reduces bias or variance, yielding better model performance."
   ]
  },
  {
   "cell_type": "markdown",
   "id": "0a499458",
   "metadata": {},
   "source": [
    "# Data Preparation"
   ]
  },
  {
   "cell_type": "markdown",
   "id": "92f77de6",
   "metadata": {},
   "source": [
    "Let's start by importing and installing the essential python libraries"
   ]
  },
  {
   "cell_type": "code",
   "execution_count": 1,
   "id": "df4f234a",
   "metadata": {},
   "outputs": [
    {
     "name": "stdout",
     "output_type": "stream",
     "text": [
      "Requirement already satisfied: imblearn in c:\\users\\daryl\\anaconda3\\lib\\site-packages (0.0)\n",
      "Requirement already satisfied: imbalanced-learn in c:\\users\\daryl\\anaconda3\\lib\\site-packages (from imblearn) (0.10.1)\n",
      "Requirement already satisfied: threadpoolctl>=2.0.0 in c:\\users\\daryl\\anaconda3\\lib\\site-packages (from imbalanced-learn->imblearn) (2.2.0)\n",
      "Requirement already satisfied: scikit-learn>=1.0.2 in c:\\users\\daryl\\anaconda3\\lib\\site-packages (from imbalanced-learn->imblearn) (1.0.2)\n",
      "Requirement already satisfied: scipy>=1.3.2 in c:\\users\\daryl\\anaconda3\\lib\\site-packages (from imbalanced-learn->imblearn) (1.7.3)\n",
      "Requirement already satisfied: numpy>=1.17.3 in c:\\users\\daryl\\anaconda3\\lib\\site-packages (from imbalanced-learn->imblearn) (1.21.5)\n",
      "Requirement already satisfied: joblib>=1.1.1 in c:\\users\\daryl\\anaconda3\\lib\\site-packages (from imbalanced-learn->imblearn) (1.2.0)\n"
     ]
    }
   ],
   "source": [
    "import numpy as np\n",
    "import pandas as pd\n",
    "import seaborn as sb\n",
    "import matplotlib.pyplot as plt\n",
    "sb.set\n",
    "!pip install imblearn"
   ]
  },
  {
   "cell_type": "markdown",
   "id": "bd217753",
   "metadata": {},
   "source": [
    "We now import the file **heart_dis_cln.csv** which contains the cleaned data, prepared in our previous notebook."
   ]
  },
  {
   "cell_type": "code",
   "execution_count": 2,
   "id": "ccc42591",
   "metadata": {},
   "outputs": [
    {
     "data": {
      "text/html": [
       "<div>\n",
       "<style scoped>\n",
       "    .dataframe tbody tr th:only-of-type {\n",
       "        vertical-align: middle;\n",
       "    }\n",
       "\n",
       "    .dataframe tbody tr th {\n",
       "        vertical-align: top;\n",
       "    }\n",
       "\n",
       "    .dataframe thead th {\n",
       "        text-align: right;\n",
       "    }\n",
       "</style>\n",
       "<table border=\"1\" class=\"dataframe\">\n",
       "  <thead>\n",
       "    <tr style=\"text-align: right;\">\n",
       "      <th></th>\n",
       "      <th>Unnamed: 0</th>\n",
       "      <th>GENDER</th>\n",
       "      <th>AGE</th>\n",
       "      <th>AGEGROUP</th>\n",
       "      <th>EDUCATION</th>\n",
       "      <th>CURRENT_SMOKER</th>\n",
       "      <th>CIGS_PER_DAY</th>\n",
       "      <th>BP_MEDICATION</th>\n",
       "      <th>PREV_STROKE</th>\n",
       "      <th>PREV_HYPERTENSION</th>\n",
       "      <th>DIABETES</th>\n",
       "      <th>TOT_CHOLESTEROL</th>\n",
       "      <th>SYSTOLIC_BP</th>\n",
       "      <th>DIASTOLIC_BP</th>\n",
       "      <th>BMI</th>\n",
       "      <th>HEART_RATE</th>\n",
       "      <th>GLUCOSE_LEVEL</th>\n",
       "      <th>HEART_STROKE</th>\n",
       "    </tr>\n",
       "  </thead>\n",
       "  <tbody>\n",
       "    <tr>\n",
       "      <th>0</th>\n",
       "      <td>0</td>\n",
       "      <td>Male</td>\n",
       "      <td>39</td>\n",
       "      <td>30-39</td>\n",
       "      <td>Postgraduate</td>\n",
       "      <td>False</td>\n",
       "      <td>0.0</td>\n",
       "      <td>False</td>\n",
       "      <td>False</td>\n",
       "      <td>False</td>\n",
       "      <td>False</td>\n",
       "      <td>195.0</td>\n",
       "      <td>106.0</td>\n",
       "      <td>70.0</td>\n",
       "      <td>26.97</td>\n",
       "      <td>80.0</td>\n",
       "      <td>77.0</td>\n",
       "      <td>False</td>\n",
       "    </tr>\n",
       "    <tr>\n",
       "      <th>1</th>\n",
       "      <td>1</td>\n",
       "      <td>Female</td>\n",
       "      <td>46</td>\n",
       "      <td>40-49</td>\n",
       "      <td>Primary School</td>\n",
       "      <td>False</td>\n",
       "      <td>0.0</td>\n",
       "      <td>False</td>\n",
       "      <td>False</td>\n",
       "      <td>False</td>\n",
       "      <td>False</td>\n",
       "      <td>250.0</td>\n",
       "      <td>121.0</td>\n",
       "      <td>81.0</td>\n",
       "      <td>28.73</td>\n",
       "      <td>95.0</td>\n",
       "      <td>76.0</td>\n",
       "      <td>False</td>\n",
       "    </tr>\n",
       "    <tr>\n",
       "      <th>2</th>\n",
       "      <td>2</td>\n",
       "      <td>Male</td>\n",
       "      <td>48</td>\n",
       "      <td>40-49</td>\n",
       "      <td>Uneducated</td>\n",
       "      <td>True</td>\n",
       "      <td>20.0</td>\n",
       "      <td>False</td>\n",
       "      <td>False</td>\n",
       "      <td>False</td>\n",
       "      <td>False</td>\n",
       "      <td>245.0</td>\n",
       "      <td>127.5</td>\n",
       "      <td>80.0</td>\n",
       "      <td>25.34</td>\n",
       "      <td>75.0</td>\n",
       "      <td>70.0</td>\n",
       "      <td>False</td>\n",
       "    </tr>\n",
       "    <tr>\n",
       "      <th>3</th>\n",
       "      <td>3</td>\n",
       "      <td>Female</td>\n",
       "      <td>61</td>\n",
       "      <td>60-69</td>\n",
       "      <td>Graduate</td>\n",
       "      <td>True</td>\n",
       "      <td>30.0</td>\n",
       "      <td>False</td>\n",
       "      <td>False</td>\n",
       "      <td>True</td>\n",
       "      <td>False</td>\n",
       "      <td>225.0</td>\n",
       "      <td>150.0</td>\n",
       "      <td>95.0</td>\n",
       "      <td>28.58</td>\n",
       "      <td>65.0</td>\n",
       "      <td>103.0</td>\n",
       "      <td>True</td>\n",
       "    </tr>\n",
       "    <tr>\n",
       "      <th>4</th>\n",
       "      <td>4</td>\n",
       "      <td>Female</td>\n",
       "      <td>46</td>\n",
       "      <td>40-49</td>\n",
       "      <td>Graduate</td>\n",
       "      <td>True</td>\n",
       "      <td>23.0</td>\n",
       "      <td>False</td>\n",
       "      <td>False</td>\n",
       "      <td>False</td>\n",
       "      <td>False</td>\n",
       "      <td>285.0</td>\n",
       "      <td>130.0</td>\n",
       "      <td>84.0</td>\n",
       "      <td>23.10</td>\n",
       "      <td>85.0</td>\n",
       "      <td>85.0</td>\n",
       "      <td>False</td>\n",
       "    </tr>\n",
       "    <tr>\n",
       "      <th>...</th>\n",
       "      <td>...</td>\n",
       "      <td>...</td>\n",
       "      <td>...</td>\n",
       "      <td>...</td>\n",
       "      <td>...</td>\n",
       "      <td>...</td>\n",
       "      <td>...</td>\n",
       "      <td>...</td>\n",
       "      <td>...</td>\n",
       "      <td>...</td>\n",
       "      <td>...</td>\n",
       "      <td>...</td>\n",
       "      <td>...</td>\n",
       "      <td>...</td>\n",
       "      <td>...</td>\n",
       "      <td>...</td>\n",
       "      <td>...</td>\n",
       "      <td>...</td>\n",
       "    </tr>\n",
       "    <tr>\n",
       "      <th>3648</th>\n",
       "      <td>4232</td>\n",
       "      <td>Male</td>\n",
       "      <td>68</td>\n",
       "      <td>60-69</td>\n",
       "      <td>Uneducated</td>\n",
       "      <td>False</td>\n",
       "      <td>0.0</td>\n",
       "      <td>False</td>\n",
       "      <td>False</td>\n",
       "      <td>True</td>\n",
       "      <td>False</td>\n",
       "      <td>176.0</td>\n",
       "      <td>168.0</td>\n",
       "      <td>97.0</td>\n",
       "      <td>23.14</td>\n",
       "      <td>60.0</td>\n",
       "      <td>79.0</td>\n",
       "      <td>True</td>\n",
       "    </tr>\n",
       "    <tr>\n",
       "      <th>3649</th>\n",
       "      <td>4233</td>\n",
       "      <td>Male</td>\n",
       "      <td>50</td>\n",
       "      <td>50-59</td>\n",
       "      <td>Uneducated</td>\n",
       "      <td>True</td>\n",
       "      <td>1.0</td>\n",
       "      <td>False</td>\n",
       "      <td>False</td>\n",
       "      <td>True</td>\n",
       "      <td>False</td>\n",
       "      <td>313.0</td>\n",
       "      <td>179.0</td>\n",
       "      <td>92.0</td>\n",
       "      <td>25.97</td>\n",
       "      <td>66.0</td>\n",
       "      <td>86.0</td>\n",
       "      <td>True</td>\n",
       "    </tr>\n",
       "    <tr>\n",
       "      <th>3650</th>\n",
       "      <td>4234</td>\n",
       "      <td>Male</td>\n",
       "      <td>51</td>\n",
       "      <td>50-59</td>\n",
       "      <td>Graduate</td>\n",
       "      <td>True</td>\n",
       "      <td>43.0</td>\n",
       "      <td>False</td>\n",
       "      <td>False</td>\n",
       "      <td>False</td>\n",
       "      <td>False</td>\n",
       "      <td>207.0</td>\n",
       "      <td>126.5</td>\n",
       "      <td>80.0</td>\n",
       "      <td>19.71</td>\n",
       "      <td>65.0</td>\n",
       "      <td>68.0</td>\n",
       "      <td>False</td>\n",
       "    </tr>\n",
       "    <tr>\n",
       "      <th>3651</th>\n",
       "      <td>4235</td>\n",
       "      <td>Female</td>\n",
       "      <td>48</td>\n",
       "      <td>40-49</td>\n",
       "      <td>Primary School</td>\n",
       "      <td>True</td>\n",
       "      <td>20.0</td>\n",
       "      <td>NotDefined</td>\n",
       "      <td>False</td>\n",
       "      <td>False</td>\n",
       "      <td>False</td>\n",
       "      <td>248.0</td>\n",
       "      <td>131.0</td>\n",
       "      <td>72.0</td>\n",
       "      <td>22.00</td>\n",
       "      <td>84.0</td>\n",
       "      <td>86.0</td>\n",
       "      <td>False</td>\n",
       "    </tr>\n",
       "    <tr>\n",
       "      <th>3652</th>\n",
       "      <td>4236</td>\n",
       "      <td>Female</td>\n",
       "      <td>44</td>\n",
       "      <td>40-49</td>\n",
       "      <td>Uneducated</td>\n",
       "      <td>True</td>\n",
       "      <td>15.0</td>\n",
       "      <td>False</td>\n",
       "      <td>False</td>\n",
       "      <td>False</td>\n",
       "      <td>False</td>\n",
       "      <td>210.0</td>\n",
       "      <td>126.5</td>\n",
       "      <td>87.0</td>\n",
       "      <td>19.16</td>\n",
       "      <td>86.0</td>\n",
       "      <td>78.0</td>\n",
       "      <td>False</td>\n",
       "    </tr>\n",
       "  </tbody>\n",
       "</table>\n",
       "<p>3653 rows × 18 columns</p>\n",
       "</div>"
      ],
      "text/plain": [
       "      Unnamed: 0  GENDER  AGE AGEGROUP       EDUCATION  CURRENT_SMOKER  \\\n",
       "0              0    Male   39    30-39    Postgraduate           False   \n",
       "1              1  Female   46    40-49  Primary School           False   \n",
       "2              2    Male   48    40-49      Uneducated            True   \n",
       "3              3  Female   61    60-69        Graduate            True   \n",
       "4              4  Female   46    40-49        Graduate            True   \n",
       "...          ...     ...  ...      ...             ...             ...   \n",
       "3648        4232    Male   68    60-69      Uneducated           False   \n",
       "3649        4233    Male   50    50-59      Uneducated            True   \n",
       "3650        4234    Male   51    50-59        Graduate            True   \n",
       "3651        4235  Female   48    40-49  Primary School            True   \n",
       "3652        4236  Female   44    40-49      Uneducated            True   \n",
       "\n",
       "      CIGS_PER_DAY BP_MEDICATION  PREV_STROKE  PREV_HYPERTENSION  DIABETES  \\\n",
       "0              0.0         False        False              False     False   \n",
       "1              0.0         False        False              False     False   \n",
       "2             20.0         False        False              False     False   \n",
       "3             30.0         False        False               True     False   \n",
       "4             23.0         False        False              False     False   \n",
       "...            ...           ...          ...                ...       ...   \n",
       "3648           0.0         False        False               True     False   \n",
       "3649           1.0         False        False               True     False   \n",
       "3650          43.0         False        False              False     False   \n",
       "3651          20.0    NotDefined        False              False     False   \n",
       "3652          15.0         False        False              False     False   \n",
       "\n",
       "      TOT_CHOLESTEROL  SYSTOLIC_BP  DIASTOLIC_BP    BMI  HEART_RATE  \\\n",
       "0               195.0        106.0          70.0  26.97        80.0   \n",
       "1               250.0        121.0          81.0  28.73        95.0   \n",
       "2               245.0        127.5          80.0  25.34        75.0   \n",
       "3               225.0        150.0          95.0  28.58        65.0   \n",
       "4               285.0        130.0          84.0  23.10        85.0   \n",
       "...               ...          ...           ...    ...         ...   \n",
       "3648            176.0        168.0          97.0  23.14        60.0   \n",
       "3649            313.0        179.0          92.0  25.97        66.0   \n",
       "3650            207.0        126.5          80.0  19.71        65.0   \n",
       "3651            248.0        131.0          72.0  22.00        84.0   \n",
       "3652            210.0        126.5          87.0  19.16        86.0   \n",
       "\n",
       "      GLUCOSE_LEVEL  HEART_STROKE  \n",
       "0              77.0         False  \n",
       "1              76.0         False  \n",
       "2              70.0         False  \n",
       "3             103.0          True  \n",
       "4              85.0         False  \n",
       "...             ...           ...  \n",
       "3648           79.0          True  \n",
       "3649           86.0          True  \n",
       "3650           68.0         False  \n",
       "3651           86.0         False  \n",
       "3652           78.0         False  \n",
       "\n",
       "[3653 rows x 18 columns]"
      ]
     },
     "execution_count": 2,
     "metadata": {},
     "output_type": "execute_result"
    }
   ],
   "source": [
    "heart_dis_cln = pd.read_csv('heart_dis_cln.csv')\n",
    "heart_dis_cln"
   ]
  },
  {
   "cell_type": "markdown",
   "id": "243938a2",
   "metadata": {},
   "source": [
    "Below are the functions for conversion of data type for use when neccessary."
   ]
  },
  {
   "cell_type": "code",
   "execution_count": 3,
   "id": "a23d30e4",
   "metadata": {},
   "outputs": [],
   "source": [
    "def to_category(df, *args):\n",
    "    for col_name in args:\n",
    "        df[col_name] = df[col_name].astype(\"category\")\n",
    "    \n",
    "def to_float64(df, *args):\n",
    "    for col_name in args:\n",
    "        df[col_name] = df[col_name].astype(\"float64\")\n",
    "\n",
    "def to_int32(df, *args):\n",
    "    for col_name in args:\n",
    "        df[col_name] = df[col_name].astype(\"int32\")"
   ]
  },
  {
   "cell_type": "markdown",
   "id": "d9f29391",
   "metadata": {},
   "source": [
    "We now convert our numerical data to type 'float64' for consistency."
   ]
  },
  {
   "cell_type": "code",
   "execution_count": 4,
   "id": "fcf79e75",
   "metadata": {},
   "outputs": [],
   "source": [
    "to_float64(heart_dis_cln, [\"CIGS_PER_DAY\", \"TOT_CHOLESTEROL\", \"SYSTOLIC_BP\", \"DIASTOLIC_BP\", \"BMI\", \"HEART_RATE\", \"GLUCOSE_LEVEL\", \"AGE\"])"
   ]
  },
  {
   "cell_type": "markdown",
   "id": "54a43d5e",
   "metadata": {},
   "source": [
    "# OneHotEncoder ( For Encoding Of Categorical Variables)"
   ]
  },
  {
   "cell_type": "markdown",
   "id": "7f796cbd",
   "metadata": {},
   "source": [
    "`OneHotEncoder` encodes categorical features as a one-hot numeric array. It converts each categorical value into a new column and assigns a 1 or 0 (representation for true/false) value to the column.\n",
    "\n",
    "We can find out more from these links:\n",
    "-  https://scikit-learn.org/stable/modules/generated/sklearn.preprocessing.OneHotEncoder.html\n",
    "-  https://towardsdatascience.com/categorical-encoding-using-label-encoding-and-one-hot-encoder-911ef77fb5bd\n",
    "\n",
    "We first need to import the essential libraries\n",
    "> OneHotEncoder: Encode categorical features as a one-hot numeric array. \n",
    "\n",
    "\n",
    "Then, we create a `OneHotEncoder` object and fit it with our data. \n",
    "\n",
    "The data types of the categorical variables after encoding are shown below."
   ]
  },
  {
   "cell_type": "code",
   "execution_count": 5,
   "id": "dcd4d1bd",
   "metadata": {},
   "outputs": [
    {
     "name": "stdout",
     "output_type": "stream",
     "text": [
      "<class 'pandas.core.frame.DataFrame'>\n",
      "RangeIndex: 3653 entries, 0 to 3652\n",
      "Data columns (total 23 columns):\n",
      " #   Column                    Non-Null Count  Dtype  \n",
      "---  ------                    --------------  -----  \n",
      " 0   AGEGROUP_30-39            3653 non-null   float64\n",
      " 1   AGEGROUP_40-49            3653 non-null   float64\n",
      " 2   AGEGROUP_50-59            3653 non-null   float64\n",
      " 3   AGEGROUP_60-69            3653 non-null   float64\n",
      " 4   AGEGROUP_70-79            3653 non-null   float64\n",
      " 5   GENDER_Female             3653 non-null   float64\n",
      " 6   GENDER_Male               3653 non-null   float64\n",
      " 7   EDUCATION_Graduate        3653 non-null   float64\n",
      " 8   EDUCATION_NotDefined      3653 non-null   float64\n",
      " 9   EDUCATION_Postgraduate    3653 non-null   float64\n",
      " 10  EDUCATION_Primary School  3653 non-null   float64\n",
      " 11  EDUCATION_Uneducated      3653 non-null   float64\n",
      " 12  CURRENT_SMOKER_False      3653 non-null   float64\n",
      " 13  CURRENT_SMOKER_True       3653 non-null   float64\n",
      " 14  BP_MEDICATION_False       3653 non-null   float64\n",
      " 15  BP_MEDICATION_NotDefined  3653 non-null   float64\n",
      " 16  BP_MEDICATION_True        3653 non-null   float64\n",
      " 17  PREV_STROKE_False         3653 non-null   float64\n",
      " 18  PREV_STROKE_True          3653 non-null   float64\n",
      " 19  PREV_HYPERTENSION_False   3653 non-null   float64\n",
      " 20  PREV_HYPERTENSION_True    3653 non-null   float64\n",
      " 21  DIABETES_False            3653 non-null   float64\n",
      " 22  DIABETES_True             3653 non-null   float64\n",
      "dtypes: float64(23)\n",
      "memory usage: 656.5 KB\n"
     ]
    }
   ],
   "source": [
    "from sklearn.preprocessing import OneHotEncoder\n",
    "ohe=OneHotEncoder()\n",
    "\n",
    "heart_dis_cln_cat = heart_dis_cln[[\"AGEGROUP\", \"GENDER\", \"EDUCATION\", \"CURRENT_SMOKER\", \"BP_MEDICATION\", \"PREV_STROKE\", \"PREV_HYPERTENSION\", \"DIABETES\"]]\n",
    "ohe.fit(heart_dis_cln_cat)\n",
    "\n",
    "heart_dis_cln_cat_ohe=pd.DataFrame(ohe.transform(heart_dis_cln_cat).toarray(), \n",
    "                               columns=ohe.get_feature_names_out(heart_dis_cln_cat.columns))\n",
    "\n",
    "heart_dis_cln_cat_ohe.info()"
   ]
  },
  {
   "cell_type": "markdown",
   "id": "47ad4072",
   "metadata": {},
   "source": [
    "Now, we combine the dataframes of **1)** OneHotEncoded categorical variables, **2)** numerical variables and **3)** response variable ie. \"HEART_STROKE\" into one common dataframe ie. **heart_dis_cln_ohe**."
   ]
  },
  {
   "cell_type": "code",
   "execution_count": 6,
   "id": "cc0108aa",
   "metadata": {
    "scrolled": false
   },
   "outputs": [
    {
     "name": "stdout",
     "output_type": "stream",
     "text": [
      "<class 'pandas.core.frame.DataFrame'>\n",
      "RangeIndex: 3653 entries, 0 to 3652\n",
      "Data columns (total 32 columns):\n",
      " #   Column                    Non-Null Count  Dtype  \n",
      "---  ------                    --------------  -----  \n",
      " 0   AGE                       3653 non-null   float64\n",
      " 1   CIGS_PER_DAY              3653 non-null   float64\n",
      " 2   TOT_CHOLESTEROL           3653 non-null   float64\n",
      " 3   SYSTOLIC_BP               3653 non-null   float64\n",
      " 4   DIASTOLIC_BP              3653 non-null   float64\n",
      " 5   BMI                       3653 non-null   float64\n",
      " 6   HEART_RATE                3653 non-null   float64\n",
      " 7   GLUCOSE_LEVEL             3653 non-null   float64\n",
      " 8   AGEGROUP_30-39            3653 non-null   float64\n",
      " 9   AGEGROUP_40-49            3653 non-null   float64\n",
      " 10  AGEGROUP_50-59            3653 non-null   float64\n",
      " 11  AGEGROUP_60-69            3653 non-null   float64\n",
      " 12  AGEGROUP_70-79            3653 non-null   float64\n",
      " 13  GENDER_Female             3653 non-null   float64\n",
      " 14  GENDER_Male               3653 non-null   float64\n",
      " 15  EDUCATION_Graduate        3653 non-null   float64\n",
      " 16  EDUCATION_NotDefined      3653 non-null   float64\n",
      " 17  EDUCATION_Postgraduate    3653 non-null   float64\n",
      " 18  EDUCATION_Primary School  3653 non-null   float64\n",
      " 19  EDUCATION_Uneducated      3653 non-null   float64\n",
      " 20  CURRENT_SMOKER_False      3653 non-null   float64\n",
      " 21  CURRENT_SMOKER_True       3653 non-null   float64\n",
      " 22  BP_MEDICATION_False       3653 non-null   float64\n",
      " 23  BP_MEDICATION_NotDefined  3653 non-null   float64\n",
      " 24  BP_MEDICATION_True        3653 non-null   float64\n",
      " 25  PREV_STROKE_False         3653 non-null   float64\n",
      " 26  PREV_STROKE_True          3653 non-null   float64\n",
      " 27  PREV_HYPERTENSION_False   3653 non-null   float64\n",
      " 28  PREV_HYPERTENSION_True    3653 non-null   float64\n",
      " 29  DIABETES_False            3653 non-null   float64\n",
      " 30  DIABETES_True             3653 non-null   float64\n",
      " 31  HEART_STROKE              3653 non-null   bool   \n",
      "dtypes: bool(1), float64(31)\n",
      "memory usage: 888.4 KB\n"
     ]
    }
   ],
   "source": [
    "heart_dis_cln_num = heart_dis_cln[[\"AGE\",\"CIGS_PER_DAY\",\"TOT_CHOLESTEROL\",\"SYSTOLIC_BP\",\"DIASTOLIC_BP\",\"BMI\",\"HEART_RATE\",\"GLUCOSE_LEVEL\"]]\n",
    "heart_dis_cln_rspd = heart_dis_cln[\"HEART_STROKE\"]\n",
    "heart_dis_cln_ohe=pd.concat([heart_dis_cln_num, heart_dis_cln_cat_ohe, heart_dis_cln_rspd],\n",
    "                       sort=False, axis=1).reindex(index=heart_dis_cln_num.index)\n",
    "\n",
    "heart_dis_cln_ohe.info()"
   ]
  },
  {
   "cell_type": "markdown",
   "id": "84f39cca",
   "metadata": {},
   "source": [
    "We have to change the data type of `HEART_STROKE` column from bool to int32 for further use in our models later."
   ]
  },
  {
   "cell_type": "code",
   "execution_count": 7,
   "id": "e00222ba",
   "metadata": {},
   "outputs": [
    {
     "name": "stdout",
     "output_type": "stream",
     "text": [
      "<class 'pandas.core.frame.DataFrame'>\n",
      "RangeIndex: 3653 entries, 0 to 3652\n",
      "Data columns (total 32 columns):\n",
      " #   Column                    Non-Null Count  Dtype  \n",
      "---  ------                    --------------  -----  \n",
      " 0   AGE                       3653 non-null   float64\n",
      " 1   CIGS_PER_DAY              3653 non-null   float64\n",
      " 2   TOT_CHOLESTEROL           3653 non-null   float64\n",
      " 3   SYSTOLIC_BP               3653 non-null   float64\n",
      " 4   DIASTOLIC_BP              3653 non-null   float64\n",
      " 5   BMI                       3653 non-null   float64\n",
      " 6   HEART_RATE                3653 non-null   float64\n",
      " 7   GLUCOSE_LEVEL             3653 non-null   float64\n",
      " 8   AGEGROUP_30-39            3653 non-null   float64\n",
      " 9   AGEGROUP_40-49            3653 non-null   float64\n",
      " 10  AGEGROUP_50-59            3653 non-null   float64\n",
      " 11  AGEGROUP_60-69            3653 non-null   float64\n",
      " 12  AGEGROUP_70-79            3653 non-null   float64\n",
      " 13  GENDER_Female             3653 non-null   float64\n",
      " 14  GENDER_Male               3653 non-null   float64\n",
      " 15  EDUCATION_Graduate        3653 non-null   float64\n",
      " 16  EDUCATION_NotDefined      3653 non-null   float64\n",
      " 17  EDUCATION_Postgraduate    3653 non-null   float64\n",
      " 18  EDUCATION_Primary School  3653 non-null   float64\n",
      " 19  EDUCATION_Uneducated      3653 non-null   float64\n",
      " 20  CURRENT_SMOKER_False      3653 non-null   float64\n",
      " 21  CURRENT_SMOKER_True       3653 non-null   float64\n",
      " 22  BP_MEDICATION_False       3653 non-null   float64\n",
      " 23  BP_MEDICATION_NotDefined  3653 non-null   float64\n",
      " 24  BP_MEDICATION_True        3653 non-null   float64\n",
      " 25  PREV_STROKE_False         3653 non-null   float64\n",
      " 26  PREV_STROKE_True          3653 non-null   float64\n",
      " 27  PREV_HYPERTENSION_False   3653 non-null   float64\n",
      " 28  PREV_HYPERTENSION_True    3653 non-null   float64\n",
      " 29  DIABETES_False            3653 non-null   float64\n",
      " 30  DIABETES_True             3653 non-null   float64\n",
      " 31  HEART_STROKE              3653 non-null   int32  \n",
      "dtypes: float64(31), int32(1)\n",
      "memory usage: 899.1 KB\n"
     ]
    }
   ],
   "source": [
    "heart_dis_cln_ohe[\"HEART_STROKE\"] = heart_dis_cln_ohe[\"HEART_STROKE\"].astype(int)\n",
    "heart_dis_cln_ohe.info()"
   ]
  },
  {
   "cell_type": "markdown",
   "id": "a8df55ee",
   "metadata": {},
   "source": [
    "# BalancedBaggingClassifier\n",
    "The BalancedBaggingClassifier is a `Bagging` classifier equiped with additional **balancing**. The implementation of `Bagging` is similar to the scikit-learn implementation, with the inclusion of an additional step to **balance the training set** at fit time using a given sampler.\n",
    "\n",
    "We can find out more at: https://imbalanced-learn.org/stable/references/generated/imblearn.ensemble.BalancedBaggingClassifier.html\n",
    "\n",
    "What is `Bagging`?\n",
    "\n",
    "`Bagging` (also known as **bootstrap aggregation**) is an `ensemble` learning method that is commonly used to reduce variance within a noisy dataset. In this model, a **random** sample of data in a training set is **selected with replacement**—meaning that the individual data points can be **chosen more than once**. After several data samples are generated, these weak models are then **trained independently**, and depending on the **type of task—regression or classification**, for example—the average or majority of those predictions yield **a more accurate estimate**.\n",
    "\n",
    "We can once again find out more at: https://www.ibm.com/cloud/learn/bagging#:~:text=Bagging%2C%20also%20known%20as%20bootstrap,be%20chosen%20more%20than%20once.\n",
    "\n",
    "We import the essential libraries.\n",
    "\n",
    ">train_test_split: Split arrays or matrices into random train and test subsets.\n",
    ">\n",
    ">DecisionTreeClassifier: A decision tree classifier.\n",
    ">\n",
    ">plot_tree: Plot a decision tree.\n",
    ">\n",
    ">confusion_matrix: Compute confusion matrix to evaluate the accuracy of a classification.\n",
    ">\n",
    ">BalancedBaggingClassifier: A Bagging classifier with additional balancing."
   ]
  },
  {
   "cell_type": "code",
   "execution_count": 8,
   "id": "1aafe3ca",
   "metadata": {},
   "outputs": [],
   "source": [
    "from sklearn.model_selection import train_test_split\n",
    "from sklearn.tree import DecisionTreeClassifier\n",
    "from sklearn.tree import plot_tree\n",
    "from sklearn.metrics import confusion_matrix\n",
    "from imblearn.ensemble import BalancedBaggingClassifier"
   ]
  },
  {
   "cell_type": "code",
   "execution_count": 56,
   "id": "06a3b4b1",
   "metadata": {},
   "outputs": [],
   "source": [
    "y=pd.DataFrame(heart_dis_cln_ohe[\"HEART_STROKE\"])\n",
    "X=pd.DataFrame(heart_dis_cln_ohe.drop(\"HEART_STROKE\", axis=1))\n",
    "\n",
    "X_train, X_test, y_train, y_test=train_test_split(X, y, test_size=0.2) #split the data into train:test=8:2"
   ]
  },
  {
   "cell_type": "markdown",
   "id": "c9f19b31",
   "metadata": {},
   "source": [
    "Create a `BalancedBaggingClassifier` object with the following parameters:\n",
    "\n",
    "- base_estimator: DecisionTreeClassifier\n",
    "- sampling_strategy: auto (equivalent to 'not minority')\n",
    "- replacement: False\n",
    "- random_state: None\n",
    "- Leaving other parameters as default"
   ]
  },
  {
   "cell_type": "markdown",
   "id": "619f3d37",
   "metadata": {},
   "source": [
    "# Train Data"
   ]
  },
  {
   "cell_type": "markdown",
   "id": "ad1d8c49",
   "metadata": {},
   "source": [
    "We first fit the model using **train** data"
   ]
  },
  {
   "cell_type": "code",
   "execution_count": 57,
   "id": "fae50d33",
   "metadata": {},
   "outputs": [
    {
     "name": "stderr",
     "output_type": "stream",
     "text": [
      "C:\\Users\\Daryl\\anaconda3\\lib\\site-packages\\imblearn\\ensemble\\_bagging.py:353: FutureWarning: `base_estimator` was renamed to `estimator` in version 0.10 and will be removed in 0.12.\n",
      "  warnings.warn(\n"
     ]
    },
    {
     "data": {
      "text/plain": [
       "BalancedBaggingClassifier(base_estimator=DecisionTreeClassifier())"
      ]
     },
     "execution_count": 57,
     "metadata": {},
     "output_type": "execute_result"
    }
   ],
   "source": [
    "bbc=BalancedBaggingClassifier(base_estimator=DecisionTreeClassifier(),\n",
    "                             sampling_strategy='auto',\n",
    "                             replacement=False,\n",
    "                             random_state=None)\n",
    "\n",
    "bbc.fit(X_train, y_train.HEART_STROKE.ravel())"
   ]
  },
  {
   "cell_type": "markdown",
   "id": "8b1ad62f",
   "metadata": {},
   "source": [
    "Then, we predict the **train** data using the model that we have trained earlier. Below is the **heatmap of confusion matrix** to show what each box of the confusion matrix represents."
   ]
  },
  {
   "cell_type": "markdown",
   "id": "3838d5a9",
   "metadata": {},
   "source": [
    "\n",
    "| Confusion Matrix  |       |        |     \n",
    "| :---              | :---: | :----: |        \n",
    "| Actual 0  |  TN  |  FP |            \n",
    "| Actual 1  |  FN |  TP  |    \n",
    "|                   | Predicted 0| Predicted 1|"
   ]
  },
  {
   "cell_type": "code",
   "execution_count": 58,
   "id": "26897934",
   "metadata": {
    "scrolled": false
   },
   "outputs": [
    {
     "data": {
      "text/plain": [
       "<AxesSubplot:>"
      ]
     },
     "execution_count": 58,
     "metadata": {},
     "output_type": "execute_result"
    },
    {
     "data": {
      "image/png": "[encoded data removed]",
      "text/plain": [
       "<Figure size 432x288 with 2 Axes>"
      ]
     },
     "metadata": {
      "needs_background": "light"
     },
     "output_type": "display_data"
    }
   ],
   "source": [
    "y_train_pred=bbc.predict(X_train)\n",
    "\n",
    "sb.heatmap(confusion_matrix(y_train, y_train_pred), \n",
    "           annot = True, fmt=\".0f\", annot_kws={\"size\": 18})"
   ]
  },
  {
   "cell_type": "code",
   "execution_count": 59,
   "id": "a14e72d5",
   "metadata": {
    "scrolled": true
   },
   "outputs": [
    {
     "name": "stdout",
     "output_type": "stream",
     "text": [
      "Train Data\n",
      "Accuracy  :\t 0.8901437371663244\n",
      "\n",
      "TN rate Train :\t 0.883399209486166\n",
      "FN rate Train :\t 0.0663265306122449\n",
      "\n",
      "TP rate Train :\t 0.9336734693877551\n",
      "FP rate Train :\t 0.116600790513834\n",
      "\n"
     ]
    }
   ],
   "source": [
    "print(\"Train Data\")\n",
    "print(\"Accuracy  :\\t\", bbc.score(X_train, y_train))\n",
    "print()\n",
    "\n",
    "cmTrain = confusion_matrix(y_train, y_train_pred)\n",
    "TN = cmTrain[0][0]\n",
    "TP = cmTrain[1][1]\n",
    "\n",
    "FP = cmTrain[0][1]\n",
    "FN = cmTrain[1][0]\n",
    "\n",
    "\n",
    "print(\"TN rate Train :\\t\", (TN/(TN + FP)))\n",
    "print(\"FN rate Train :\\t\", (FN/(FN + TP)))\n",
    "print()\n",
    "\n",
    "print(\"TP rate Train :\\t\", (TP/(TP + FN)))\n",
    "print(\"FP rate Train :\\t\", (FP/(FP + TN)))\n",
    "print()"
   ]
  },
  {
   "cell_type": "markdown",
   "id": "acecc70c",
   "metadata": {},
   "source": [
    "We can see that this model yields a high Training Data Accuracy of 89.0%. This accuracy rating is higher than that of the `scikitlearn` `DecisionTreeClassifier` models used earlier.\n",
    "\n",
    "Moreover, by allowing this model to balance the imbalanced data we have earlier, we have now attained results that show reduced variance and bias towards data."
   ]
  },
  {
   "cell_type": "markdown",
   "id": "47b810bd",
   "metadata": {},
   "source": [
    "# Test Data"
   ]
  },
  {
   "cell_type": "markdown",
   "id": "70390949",
   "metadata": {},
   "source": [
    "Now, we proceed on to predict the **test** data using the model that we have trained earlier. \n",
    "\n",
    "Once again, below is the **heatmap of confusion matrix** to assist in showing what each box of the confusion matrix represents."
   ]
  },
  {
   "cell_type": "markdown",
   "id": "89b211ea",
   "metadata": {},
   "source": [
    "| Confusion Matrix  |       |        |     \n",
    "| :---              | :---: | :----: |        \n",
    "| Actual 0  |  TN  |  FP |            \n",
    "| Actual 1  |  FN |  TP  |    \n",
    "|                   | Predicted 0| Predicted 1|"
   ]
  },
  {
   "cell_type": "code",
   "execution_count": 60,
   "id": "3d05ec1a",
   "metadata": {
    "scrolled": true
   },
   "outputs": [
    {
     "data": {
      "text/plain": [
       "<AxesSubplot:>"
      ]
     },
     "execution_count": 60,
     "metadata": {},
     "output_type": "execute_result"
    },
    {
     "data": {
      "image/png": "[encoded data removed]",
      "text/plain": [
       "<Figure size 432x288 with 2 Axes>"
      ]
     },
     "metadata": {
      "needs_background": "light"
     },
     "output_type": "display_data"
    }
   ],
   "source": [
    "y_test_pred = bbc.predict(X_test)\n",
    "\n",
    "sb.heatmap(confusion_matrix(y_test, y_test_pred), \n",
    "           annot = True, fmt=\".0f\", annot_kws={\"size\": 18})"
   ]
  },
  {
   "cell_type": "code",
   "execution_count": 75,
   "id": "15903ac6",
   "metadata": {},
   "outputs": [
    {
     "name": "stdout",
     "output_type": "stream",
     "text": [
      "Test Data\n",
      "Accuracy  :\t 0.8782489740082079\n",
      "\n",
      "TN rate Test :\t 0.6232558139534884\n",
      "FN rate Test :\t 0.313953488372093\n",
      "\n",
      "TP rate Test :\t 0.686046511627907\n",
      "FP rate Test :\t 0.3767441860465116\n",
      "\n"
     ]
    }
   ],
   "source": [
    "print(\"Test Data\")\n",
    "print(\"Accuracy  :\\t\", bbc.score(X_test, y_test))\n",
    "print()\n",
    "\n",
    "cmTest = confusion_matrix(y_test, y_test_pred)\n",
    "TN = cmTest[0][0]\n",
    "TP = cmTest[1][1]\n",
    "\n",
    "FP = cmTest[0][1]\n",
    "FN = cmTest[1][0]\n",
    "\n",
    "\n",
    "print(\"TN rate Test :\\t\", (TN/(TN + FP)))\n",
    "print(\"FN rate Test :\\t\", (FN/(FN + TP)))\n",
    "print()\n",
    "\n",
    "print(\"TP rate Test :\\t\", (TP/(TP + FN)))\n",
    "print(\"FP rate Test :\\t\", (FP/(FP + TN)))\n",
    "print()"
   ]
  },
  {
   "cell_type": "markdown",
   "id": "24350a02",
   "metadata": {},
   "source": [
    "Again, we see that this model yields a high Test Data Accuracy of 87.8%. This accuracy rating is also higher than that of the scikitlearn `DecisionTreeClassifier` models used earlier. \n",
    "\n",
    "However, the Test Data Accuracy had a slightly lower rating than that of the Train Data Accuracy. This is probably due to the larger data size in training data, allowing the bagging process to be more efficient in reducing the variance and biasness of the data."
   ]
  },
  {
   "cell_type": "markdown",
   "id": "f41315d3",
   "metadata": {},
   "source": [
    "We now proceed on to another model."
   ]
  },
  {
   "cell_type": "markdown",
   "id": "ab4f370d",
   "metadata": {},
   "source": [
    "# BalancedRandomForestClassifier\n",
    "The BalancedRandomForestClassifier is a model that randomly under-samples each bootstrap sample to balance it. It is similar to the `RandomForestClassifier` model from scikit-learn, but is more applicable to imbalanced data.\n",
    "\n",
    "We can find out more at: https://imbalanced-learn.org/stable/references/generated/imblearn.ensemble.BalancedRandomForestClassifier.html\n",
    "\n",
    "We import the essential library.\n",
    "\n",
    "> BalancedRandomForestClassifier: A balanced random forest classifier.\n",
    "\n",
    "Note: Other neccessary libraries are already imported above."
   ]
  },
  {
   "cell_type": "code",
   "execution_count": 62,
   "id": "8af1902e",
   "metadata": {},
   "outputs": [],
   "source": [
    "from imblearn.ensemble import BalancedRandomForestClassifier"
   ]
  },
  {
   "cell_type": "code",
   "execution_count": 69,
   "id": "445a4079",
   "metadata": {},
   "outputs": [],
   "source": [
    "y=pd.DataFrame(heart_dis_cln_ohe[\"HEART_STROKE\"])\n",
    "X=pd.DataFrame(heart_dis_cln_ohe.drop(\"HEART_STROKE\", axis=1))\n",
    "\n",
    "X_train, X_test, y_train, y_test=train_test_split(X, y, test_size=0.2) #split the data into train:test=8:2"
   ]
  },
  {
   "cell_type": "markdown",
   "id": "f0ed4166",
   "metadata": {},
   "source": [
    "Create a `BalancedRandomForestClassifier` object with the following parameters:\n",
    "\n",
    "- n_estimators: 100\n",
    "- criterion=gini\n",
    "- max_depth=None (nodes are expanded until all leaves are pure or until all leaves contain less than min_samples_split samples - 2 by default)\n",
    "- sampling_strategy=auto\n",
    "- random_state: None (the random number generator is the RandomState instance used by np.random)\n",
    "- Leaving other parameters as default\n",
    "\n"
   ]
  },
  {
   "cell_type": "markdown",
   "id": "f1cde3bb",
   "metadata": {},
   "source": [
    "# Train Data"
   ]
  },
  {
   "cell_type": "markdown",
   "id": "ac9eb3ea",
   "metadata": {},
   "source": [
    "We first fit the model using the **train** data."
   ]
  },
  {
   "cell_type": "code",
   "execution_count": 70,
   "id": "9456168a",
   "metadata": {
    "scrolled": false
   },
   "outputs": [
    {
     "data": {
      "text/plain": [
       "BalancedRandomForestClassifier()"
      ]
     },
     "execution_count": 70,
     "metadata": {},
     "output_type": "execute_result"
    }
   ],
   "source": [
    "brfc=BalancedRandomForestClassifier(n_estimators=100, criterion='gini', max_depth=None,\n",
    "                                    sampling_strategy='auto', random_state=None)\n",
    "\n",
    "brfc.fit(X_train, y_train.HEART_STROKE.ravel())"
   ]
  },
  {
   "cell_type": "markdown",
   "id": "26b093b8",
   "metadata": {},
   "source": [
    "Then, we predict the **train** data using the model that we have trained earlier. Below is the **heatmap of confusion matrix** to show what each box of the confusion matrix represents."
   ]
  },
  {
   "cell_type": "markdown",
   "id": "a7c34038",
   "metadata": {},
   "source": [
    "| Confusion Matrix  |       |        |     \n",
    "| :---              | :---: | :----: |        \n",
    "| Actual 0  |  TN  |  FP |            \n",
    "| Actual 1  |  FN |  TP  |    \n",
    "|                   | Predicted 0| Predicted 1|"
   ]
  },
  {
   "cell_type": "code",
   "execution_count": 71,
   "id": "4a8473d5",
   "metadata": {},
   "outputs": [
    {
     "data": {
      "text/plain": [
       "<AxesSubplot:>"
      ]
     },
     "execution_count": 71,
     "metadata": {},
     "output_type": "execute_result"
    },
    {
     "data": {
      "image/png": "[encoded data removed]",
      "text/plain": [
       "<Figure size 432x288 with 2 Axes>"
      ]
     },
     "metadata": {
      "needs_background": "light"
     },
     "output_type": "display_data"
    }
   ],
   "source": [
    "y_train_pred=brfc.predict(X_train)\n",
    "\n",
    "sb.heatmap(confusion_matrix(y_train, y_train_pred), \n",
    "           annot = True, fmt=\".0f\", annot_kws={\"size\": 18})"
   ]
  },
  {
   "cell_type": "code",
   "execution_count": 72,
   "id": "d1780c45",
   "metadata": {},
   "outputs": [
    {
     "name": "stdout",
     "output_type": "stream",
     "text": [
      "Train Data\n",
      "Accuracy  :\t 0.7792607802874744\n",
      "\n",
      "TN rate Train :\t 0.7440476190476191\n",
      "FN rate Train :\t 0.0\n",
      "\n",
      "TP rate Train :\t 1.0\n",
      "FP rate Train :\t 0.25595238095238093\n",
      "\n"
     ]
    }
   ],
   "source": [
    "print(\"Train Data\")\n",
    "print(\"Accuracy  :\\t\", brfc.score(X_train, y_train))\n",
    "print()\n",
    "\n",
    "cmTrain = confusion_matrix(y_train, y_train_pred)\n",
    "TN = cmTrain[0][0]\n",
    "TP = cmTrain[1][1]\n",
    "\n",
    "FP = cmTrain[0][1]\n",
    "FN = cmTrain[1][0]\n",
    "\n",
    "\n",
    "print(\"TN rate Train :\\t\", (TN/(TN + FP)))\n",
    "print(\"FN rate Train :\\t\", (FN/(FN + TP)))\n",
    "print()\n",
    "\n",
    "print(\"TP rate Train :\\t\", (TP/(TP + FN)))\n",
    "print(\"FP rate Train :\\t\", (FP/(FP + TN)))\n",
    "print()"
   ]
  },
  {
   "cell_type": "markdown",
   "id": "356e8b79",
   "metadata": {},
   "source": [
    "We see that the model yields a moderately high Train Data Accuracy of 77.9%. However, this accuracy rating is not as high as that of the `BalancedBaggerClassifier` model, `DecisionTreeClassifier` model and the `RandomForestClassifier` model.\n",
    "\n",
    "Moreover, the variance and biasness of the data is very high, as seen in the extreme True Positive (TP) rate and False Negative (FN) rate."
   ]
  },
  {
   "cell_type": "markdown",
   "id": "42473aae",
   "metadata": {},
   "source": [
    "# Test Data"
   ]
  },
  {
   "cell_type": "markdown",
   "id": "bb34bed9",
   "metadata": {},
   "source": [
    "Now, we proceed on to predict the **test** data using the model that we have trained earlier. \n",
    "\n",
    "Once again, below is the **heatmap of confusion matrix** to assist in showing what each box of the confusion matrix represents."
   ]
  },
  {
   "cell_type": "markdown",
   "id": "7a29078e",
   "metadata": {},
   "source": [
    "| Confusion Matrix  |       |        |     \n",
    "| :---              | :---: | :----: |        \n",
    "| Actual 0  |  TN  |  FP |            \n",
    "| Actual 1  |  FN |  TP  |    \n",
    "|                   | Predicted 0| Predicted 1|"
   ]
  },
  {
   "cell_type": "code",
   "execution_count": 73,
   "id": "811b2e1b",
   "metadata": {},
   "outputs": [
    {
     "data": {
      "text/plain": [
       "<AxesSubplot:>"
      ]
     },
     "execution_count": 73,
     "metadata": {},
     "output_type": "execute_result"
    },
    {
     "data": {
      "image/png": "[encoded data removed]",
      "text/plain": [
       "<Figure size 432x288 with 2 Axes>"
      ]
     },
     "metadata": {
      "needs_background": "light"
     },
     "output_type": "display_data"
    }
   ],
   "source": [
    "y_test_pred = brfc.predict(X_test)\n",
    "\n",
    "sb.heatmap(confusion_matrix(y_test, y_test_pred), \n",
    "           annot = True, fmt=\".0f\", annot_kws={\"size\": 18})"
   ]
  },
  {
   "cell_type": "code",
   "execution_count": 78,
   "id": "979ed48d",
   "metadata": {},
   "outputs": [
    {
     "name": "stdout",
     "output_type": "stream",
     "text": [
      "Test Data\n",
      "Accuracy  :\t 0.6306429548563611\n",
      "\n",
      "TN rate Test :\t 0.6232558139534884\n",
      "FN rate Test :\t 0.313953488372093\n",
      "\n",
      "TP rate Test :\t 0.686046511627907\n",
      "FP rate Test :\t 0.3767441860465116\n",
      "\n"
     ]
    }
   ],
   "source": [
    "print(\"Test Data\")\n",
    "print(\"Accuracy  :\\t\", brfc.score(X_test, y_test))\n",
    "print()\n",
    "\n",
    "cmTest = confusion_matrix(y_test, y_test_pred)\n",
    "TN = cmTest[0][0]\n",
    "TP = cmTest[1][1]\n",
    "\n",
    "FP = cmTest[0][1]\n",
    "FN = cmTest[1][0]\n",
    "\n",
    "\n",
    "print(\"TN rate Test :\\t\", (TN/(TN + FP)))\n",
    "print(\"FN rate Test :\\t\", (FN/(FN + TP)))\n",
    "print()\n",
    "\n",
    "print(\"TP rate Test :\\t\", (TP/(TP + FN)))\n",
    "print(\"FP rate Test :\\t\", (FP/(FP + TN)))\n",
    "print()"
   ]
  },
  {
   "cell_type": "markdown",
   "id": "c1cec1dd",
   "metadata": {},
   "source": [
    "We see that the model yields a moderate Test Data Accuracy of 63.1%. Moreover, this test data did not generate a higher data accuracy as the training data did. Similar to the explanation above, we believe this is due to the larger data size in training data, allowing the bagging process to be more efficient in reducing the variance and biasness of the data.\n",
    "\n",
    "Not to mention, the Test Data Accuracy is also lower than that of  the `BalancedBaggerClassifier` model, `DecisionTreeClassifier` model and the `RandomForestClassifier` model as well."
   ]
  },
  {
   "cell_type": "markdown",
   "id": "5911a0db",
   "metadata": {},
   "source": [
    "# Overall comparison between BalancedBaggingClassifier & BalancedRandomForestClassifer\n",
    "\n",
    "All in all, it seems that the BalancedBaggingClassifier model is more accurate than the RandomForestClassifier model. We can see that there is a higher Train & Test Data Accuracy for BalancedBaggingClassier (0.890 & 0.878 respectively) as compared to RandomForestClassifier (0.779 & 0.630 respectively)."
   ]
  },
  {
   "cell_type": "markdown",
   "id": "f0b3fb2c",
   "metadata": {},
   "source": [
    "# Overall comparison with models from the Machine Learning 1 folder\n",
    "\n",
    "All in all, the two models from `imblearn` `ensemble` library used here perform relatively well. However, the `BalancedBaggingClassifier` model is definitely superior to the models used in the Machine Learning 1 notebook, as seen in the higher Data Accuracy Level for both training and test data.\n",
    "\n",
    "On the other hand, the `BalancedRandomForestClassifier` model is definitely inferior to the models used in the Machine Learning 1 notebook, as seen in the lower Data Accuracy Level for both training and test data."
   ]
  }
 ],
 "metadata": {
  "kernelspec": {
   "display_name": "Python 3 (ipykernel)",
   "language": "python",
   "name": "python3"
  },
  "language_info": {
   "codemirror_mode": {
    "name": "ipython",
    "version": 3
   },
   "file_extension": ".py",
   "mimetype": "text/x-python",
   "name": "python",
   "nbconvert_exporter": "python",
   "pygments_lexer": "ipython3",
   "version": "3.9.12"
  }
 },
 "nbformat": 4,
 "nbformat_minor": 5
}
